{
 "cells": [
  {
   "cell_type": "markdown",
   "id": "b28524b4",
   "metadata": {},
   "source": [
    "# Global renewable energy analysis - cleaning and EDA\n",
    "\n",
    "## Objective\n",
    "\n",
    "## Input\n",
    "\n",
    "## Output"
   ]
  },
  {
   "cell_type": "code",
   "execution_count": null,
   "id": "93cb10fc",
   "metadata": {},
   "outputs": [],
   "source": [
    "#Check working directory\n",
    "\n",
    "#check python version\n",
    "\n",
    "#load required packages\n",
    "\n",
    "#load data\n"
   ]
  }
 ],
 "metadata": {
  "kernelspec": {
   "display_name": ".venv (3.12.10)",
   "language": "python",
   "name": "python3"
  },
  "language_info": {
   "name": "python",
   "version": "3.12.10"
  }
 },
 "nbformat": 4,
 "nbformat_minor": 5
}
