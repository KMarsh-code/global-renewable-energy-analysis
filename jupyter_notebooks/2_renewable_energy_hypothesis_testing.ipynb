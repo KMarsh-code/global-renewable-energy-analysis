{
 "cells": [
  {
   "cell_type": "markdown",
   "id": "bdb30be2",
   "metadata": {},
   "source": [
    "# Global renewable energy analysis - Hypothesis testing\n",
    "\n",
    "## Objective\n",
    "\n",
    "## Input\n",
    "\n",
    "## Output\n",
    "\n"
   ]
  }
 ],
 "metadata": {
  "language_info": {
   "name": "python"
  }
 },
 "nbformat": 4,
 "nbformat_minor": 5
}
